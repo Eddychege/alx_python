{
  "nbformat": 4,
  "nbformat_minor": 0,
  "metadata": {
    "colab": {
      "provenance": [],
      "authorship_tag": "ABX9TyMg/nEzz/yyedzkYp7ln8VV",
      "include_colab_link": true
    },
    "kernelspec": {
      "name": "python3",
      "display_name": "Python 3"
    },
    "language_info": {
      "name": "python"
    }
  },
  "cells": [
    {
      "cell_type": "markdown",
      "metadata": {
        "id": "view-in-github",
        "colab_type": "text"
      },
      "source": [
        "<a href=\"https://colab.research.google.com/github/Eddychege/alx_python/blob/main/HCIA_AI_CERTIFICATION_DAILY_EXERCISE_PYTHON_BASICS_EddieChege_Group2.ipynb\" target=\"_parent\"><img src=\"https://colab.research.google.com/assets/colab-badge.svg\" alt=\"Open In Colab\"/></a>"
      ]
    },
    {
      "cell_type": "code",
      "execution_count": 40,
      "metadata": {
        "id": "rJe9v37lOeBy"
      },
      "outputs": [],
      "source": [
        "import numpy"
      ]
    },
    {
      "cell_type": "code",
      "source": [
        "print(numpy.version.version)"
      ],
      "metadata": {
        "colab": {
          "base_uri": "https://localhost:8080/"
        },
        "id": "jWclCPVVO8Nm",
        "outputId": "b53e5275-24d5-4d15-8c23-97fbe9655581"
      },
      "execution_count": 41,
      "outputs": [
        {
          "output_type": "stream",
          "name": "stdout",
          "text": [
            "2.0.2\n"
          ]
        }
      ]
    },
    {
      "cell_type": "code",
      "source": [
        "import pandas as pd"
      ],
      "metadata": {
        "id": "vJUdDvNQPCXw"
      },
      "execution_count": 42,
      "outputs": []
    },
    {
      "cell_type": "code",
      "source": [
        "print(pd.__version__)"
      ],
      "metadata": {
        "id": "clR5Q3-QPF0e",
        "colab": {
          "base_uri": "https://localhost:8080/"
        },
        "outputId": "73e0782e-ae83-46c9-c1bf-152be1e01410"
      },
      "execution_count": 43,
      "outputs": [
        {
          "output_type": "stream",
          "name": "stdout",
          "text": [
            "2.2.2\n"
          ]
        }
      ]
    },
    {
      "cell_type": "code",
      "source": [
        "print('Hello HCIA-Huawei Team')"
      ],
      "metadata": {
        "colab": {
          "base_uri": "https://localhost:8080/"
        },
        "id": "IYDr3b7eQ4tp",
        "outputId": "7df7e19c-bcda-43cf-b70f-3f256be272d8"
      },
      "execution_count": 44,
      "outputs": [
        {
          "output_type": "stream",
          "name": "stdout",
          "text": [
            "Hello HCIA-Huawei Team\n"
          ]
        }
      ]
    },
    {
      "cell_type": "code",
      "source": [
        "a = 2\n",
        "b = 3\n",
        "print(a+b)"
      ],
      "metadata": {
        "colab": {
          "base_uri": "https://localhost:8080/"
        },
        "id": "ij36aE8RRcxt",
        "outputId": "4c630e93-1e96-4154-d35d-791883327430"
      },
      "execution_count": 45,
      "outputs": [
        {
          "output_type": "stream",
          "name": "stdout",
          "text": [
            "5\n"
          ]
        }
      ]
    },
    {
      "cell_type": "code",
      "source": [
        "x=(2,)"
      ],
      "metadata": {
        "id": "pwc_efO7Revy"
      },
      "execution_count": 46,
      "outputs": []
    },
    {
      "cell_type": "code",
      "source": [
        "y=(2,3,4,5,6)\n",
        "for i in y:\n",
        "    print(i)"
      ],
      "metadata": {
        "colab": {
          "base_uri": "https://localhost:8080/"
        },
        "id": "3bjPofoYRuIT",
        "outputId": "e8e0e304-e087-49b2-9425-de45054ed52b"
      },
      "execution_count": 47,
      "outputs": [
        {
          "output_type": "stream",
          "name": "stdout",
          "text": [
            "2\n",
            "3\n",
            "4\n",
            "5\n",
            "6\n"
          ]
        }
      ]
    },
    {
      "cell_type": "code",
      "source": [
        "x = [1,2,3,4,5]\n",
        "y = [11,12,13,14,15]\n",
        "z=(21,22,23,24,25)\n",
        "for i,j,k in zip(x,y,z):\n",
        "    print(i,j,k)\n",
        "\n",
        "print(3*x)\n",
        "print(x+y)\n",
        "# print(x-y)\n",
        "print(x[1])\n",
        "print(x[0])\n",
        "print(x[-1])"
      ],
      "metadata": {
        "colab": {
          "base_uri": "https://localhost:8080/"
        },
        "id": "UxxS9ljBR12J",
        "outputId": "0d297d85-6213-404d-970e-497378ce0f0d"
      },
      "execution_count": 48,
      "outputs": [
        {
          "output_type": "stream",
          "name": "stdout",
          "text": [
            "1 11 21\n",
            "2 12 22\n",
            "3 13 23\n",
            "4 14 24\n",
            "5 15 25\n",
            "[1, 2, 3, 4, 5, 1, 2, 3, 4, 5, 1, 2, 3, 4, 5]\n",
            "[1, 2, 3, 4, 5, 11, 12, 13, 14, 15]\n",
            "2\n",
            "1\n",
            "5\n"
          ]
        }
      ]
    },
    {
      "cell_type": "code",
      "source": [
        "my_dict = {}\n",
        "print(my_dict)\n",
        "print(type(my_dict))"
      ],
      "metadata": {
        "colab": {
          "base_uri": "https://localhost:8080/"
        },
        "id": "0wsPjZbWSQzy",
        "outputId": "3cd4fa3b-98c0-4db7-eaca-f75caf4c3dc0"
      },
      "execution_count": 49,
      "outputs": [
        {
          "output_type": "stream",
          "name": "stdout",
          "text": [
            "{}\n",
            "<class 'dict'>\n"
          ]
        }
      ]
    },
    {
      "cell_type": "code",
      "source": [
        "my_dict = { 'name':'Reagan','phone': '+254722222333'}\n",
        "print(my_dict)"
      ],
      "metadata": {
        "colab": {
          "base_uri": "https://localhost:8080/"
        },
        "id": "E1aAQxLmS76V",
        "outputId": "1ec42c4a-a899-45fd-d62c-7f89a8a1cc52"
      },
      "execution_count": 50,
      "outputs": [
        {
          "output_type": "stream",
          "name": "stdout",
          "text": [
            "{'name': 'Reagan', 'phone': '+254722222333'}\n"
          ]
        }
      ]
    },
    {
      "cell_type": "code",
      "source": [
        "HCIA_AIdict = {}\n",
        "HCIA_AIdict = {'Philip_Oyier':'kisumu','Peter_Kiguru':'Kiambu','Susan_Neema':'Nairobi','Mary_Njue':'Kiambu','Eddie_Chege':'Kiambu'}\n",
        "print(HCIA_AIdict.items())\n",
        "print(HCIA_AIdict.keys())\n",
        "print(HCIA_AIdict.values())\n",
        "print(HCIA_AIdict['Philip_Oyier'])\n",
        "print('Philip_Oyier' in HCIA_AIdict)\n",
        "\n"
      ],
      "metadata": {
        "colab": {
          "base_uri": "https://localhost:8080/"
        },
        "id": "fHseJf52TQfo",
        "outputId": "72cfe81b-a33f-422f-e262-f733bf811782"
      },
      "execution_count": 51,
      "outputs": [
        {
          "output_type": "stream",
          "name": "stdout",
          "text": [
            "dict_items([('Philip_Oyier', 'kisumu'), ('Peter_Kiguru', 'Kiambu'), ('Susan_Neema', 'Nairobi'), ('Mary_Njue', 'Kiambu'), ('Eddie_Chege', 'Kiambu')])\n",
            "dict_keys(['Philip_Oyier', 'Peter_Kiguru', 'Susan_Neema', 'Mary_Njue', 'Eddie_Chege'])\n",
            "dict_values(['kisumu', 'Kiambu', 'Nairobi', 'Kiambu', 'Kiambu'])\n",
            "kisumu\n",
            "True\n"
          ]
        }
      ]
    },
    {
      "cell_type": "code",
      "source": [
        "s= \"We are on course with HCIA-AI Certification\"\n",
        "print(s)"
      ],
      "metadata": {
        "colab": {
          "base_uri": "https://localhost:8080/"
        },
        "id": "fWq0hOIgVPHX",
        "outputId": "b884f7c4-1e4b-4744-f35f-34cb25020a55"
      },
      "execution_count": 52,
      "outputs": [
        {
          "output_type": "stream",
          "name": "stdout",
          "text": [
            "We are on course with HCIA-AI Certification\n"
          ]
        }
      ]
    },
    {
      "cell_type": "code",
      "source": [
        "print(3*s)\n",
        "print(s[1])\n",
        "print(s[2])\n",
        "print(s[::2])"
      ],
      "metadata": {
        "colab": {
          "base_uri": "https://localhost:8080/"
        },
        "id": "SkjI0-rmVpeU",
        "outputId": "cd231103-c573-4013-f36b-eb49b7972573"
      },
      "execution_count": 53,
      "outputs": [
        {
          "output_type": "stream",
          "name": "stdout",
          "text": [
            "We are on course with HCIA-AI CertificationWe are on course with HCIA-AI CertificationWe are on course with HCIA-AI Certification\n",
            "e\n",
            " \n",
            "W r ncus ihHI-ICriiain\n"
          ]
        }
      ]
    },
    {
      "cell_type": "code",
      "source": [
        "text = \"Huawei AI Bootcamp June 2025\"\n",
        "print(text.upper())\n",
        "print(text.lower())\n",
        "print(text.split())\n",
        "print(\"+\".join(text.split()))\n",
        "print(text.replace('Comrades','Students'))\n",
        "print(text.find('Students'))\n",
        "print(text.count('n'))"
      ],
      "metadata": {
        "colab": {
          "base_uri": "https://localhost:8080/"
        },
        "id": "4lDHR4spVyRj",
        "outputId": "c6763bf6-c2bd-4b34-94af-d8f89f0d55ab"
      },
      "execution_count": 54,
      "outputs": [
        {
          "output_type": "stream",
          "name": "stdout",
          "text": [
            "HUAWEI AI BOOTCAMP JUNE 2025\n",
            "huawei ai bootcamp june 2025\n",
            "['Huawei', 'AI', 'Bootcamp', 'June', '2025']\n",
            "Huawei+AI+Bootcamp+June+2025\n",
            "Huawei AI Bootcamp June 2025\n",
            "-1\n",
            "1\n"
          ]
        }
      ]
    },
    {
      "cell_type": "code",
      "source": [
        "for i in range(101):\n",
        "  print(i)"
      ],
      "metadata": {
        "colab": {
          "base_uri": "https://localhost:8080/"
        },
        "id": "tV8ho66sXaIf",
        "outputId": "49213890-86af-4a00-d730-64d9da24d9b7"
      },
      "execution_count": 55,
      "outputs": [
        {
          "output_type": "stream",
          "name": "stdout",
          "text": [
            "0\n",
            "1\n",
            "2\n",
            "3\n",
            "4\n",
            "5\n",
            "6\n",
            "7\n",
            "8\n",
            "9\n",
            "10\n",
            "11\n",
            "12\n",
            "13\n",
            "14\n",
            "15\n",
            "16\n",
            "17\n",
            "18\n",
            "19\n",
            "20\n",
            "21\n",
            "22\n",
            "23\n",
            "24\n",
            "25\n",
            "26\n",
            "27\n",
            "28\n",
            "29\n",
            "30\n",
            "31\n",
            "32\n",
            "33\n",
            "34\n",
            "35\n",
            "36\n",
            "37\n",
            "38\n",
            "39\n",
            "40\n",
            "41\n",
            "42\n",
            "43\n",
            "44\n",
            "45\n",
            "46\n",
            "47\n",
            "48\n",
            "49\n",
            "50\n",
            "51\n",
            "52\n",
            "53\n",
            "54\n",
            "55\n",
            "56\n",
            "57\n",
            "58\n",
            "59\n",
            "60\n",
            "61\n",
            "62\n",
            "63\n",
            "64\n",
            "65\n",
            "66\n",
            "67\n",
            "68\n",
            "69\n",
            "70\n",
            "71\n",
            "72\n",
            "73\n",
            "74\n",
            "75\n",
            "76\n",
            "77\n",
            "78\n",
            "79\n",
            "80\n",
            "81\n",
            "82\n",
            "83\n",
            "84\n",
            "85\n",
            "86\n",
            "87\n",
            "88\n",
            "89\n",
            "90\n",
            "91\n",
            "92\n",
            "93\n",
            "94\n",
            "95\n",
            "96\n",
            "97\n",
            "98\n",
            "99\n",
            "100\n"
          ]
        }
      ]
    },
    {
      "cell_type": "code",
      "source": [
        "for i in range(1,101):\n",
        "  if i%7==0:\n",
        "    print(i)\n",
        ""
      ],
      "metadata": {
        "colab": {
          "base_uri": "https://localhost:8080/"
        },
        "id": "vFMx-PhKYGBC",
        "outputId": "20d79412-db52-42ae-dc9e-8190c35d87eb"
      },
      "execution_count": 56,
      "outputs": [
        {
          "output_type": "stream",
          "name": "stdout",
          "text": [
            "7\n",
            "14\n",
            "21\n",
            "28\n",
            "35\n",
            "42\n",
            "49\n",
            "56\n",
            "63\n",
            "70\n",
            "77\n",
            "84\n",
            "91\n",
            "98\n"
          ]
        }
      ]
    },
    {
      "cell_type": "code",
      "source": [
        "for i in range(101):\n",
        "  if i%5==0 and i%3!=0:\n",
        "    print(i)"
      ],
      "metadata": {
        "colab": {
          "base_uri": "https://localhost:8080/"
        },
        "id": "DbOQzK1lYP3e",
        "outputId": "7ede3e53-e9a3-4a4b-cead-9a28cd3b05dc"
      },
      "execution_count": 57,
      "outputs": [
        {
          "output_type": "stream",
          "name": "stdout",
          "text": [
            "5\n",
            "10\n",
            "20\n",
            "25\n",
            "35\n",
            "40\n",
            "50\n",
            "55\n",
            "65\n",
            "70\n",
            "80\n",
            "85\n",
            "95\n",
            "100\n"
          ]
        }
      ]
    },
    {
      "cell_type": "code",
      "source": [
        "for x in range(2, 21):\n",
        "    divisors = []\n",
        "    for i in range(2, x):\n",
        "        if x % i == 0:\n",
        "            divisors.append(i)\n",
        "    if divisors:\n",
        "        print(f\"For {x}, it should print: {' '.join(map(str, divisors))}\")\n",
        "    else:\n",
        "       pass"
      ],
      "metadata": {
        "colab": {
          "base_uri": "https://localhost:8080/"
        },
        "id": "0gqDtb3GYgLd",
        "outputId": "47a67b24-da73-46c3-dbde-d0d9bf070865"
      },
      "execution_count": 58,
      "outputs": [
        {
          "output_type": "stream",
          "name": "stdout",
          "text": [
            "For 4, it should print: 2\n",
            "For 6, it should print: 2 3\n",
            "For 8, it should print: 2 4\n",
            "For 9, it should print: 3\n",
            "For 10, it should print: 2 5\n",
            "For 12, it should print: 2 3 4 6\n",
            "For 14, it should print: 2 7\n",
            "For 15, it should print: 3 5\n",
            "For 16, it should print: 2 4 8\n",
            "For 18, it should print: 2 3 6 9\n",
            "For 20, it should print: 2 4 5 10\n"
          ]
        }
      ]
    },
    {
      "cell_type": "code",
      "source": [
        "def Mul(num1,num2):\n",
        "  return(num1*num2)\n",
        "\n",
        "print(Mul(8,6))"
      ],
      "metadata": {
        "colab": {
          "base_uri": "https://localhost:8080/"
        },
        "id": "XApoAzZ-ZSiv",
        "outputId": "ad7810aa-abd1-4767-8233-029b1cf8f1b3"
      },
      "execution_count": 59,
      "outputs": [
        {
          "output_type": "stream",
          "name": "stdout",
          "text": [
            "48\n"
          ]
        }
      ]
    },
    {
      "cell_type": "code",
      "source": [
        "def sqrProd(x,y):\n",
        "  product = x*y\n",
        "  return product*product\n",
        "\n",
        "print(sqrProd(2,5))"
      ],
      "metadata": {
        "colab": {
          "base_uri": "https://localhost:8080/"
        },
        "id": "mbZIGsO-Zq6I",
        "outputId": "b76ff1c0-7c9d-49ba-ce0d-8dce7f31441e"
      },
      "execution_count": 60,
      "outputs": [
        {
          "output_type": "stream",
          "name": "stdout",
          "text": [
            "100\n"
          ]
        }
      ]
    },
    {
      "cell_type": "code",
      "source": [
        "import numpy as np\n",
        "arrays_zero = np.zeros((5,5))\n",
        "print(arrays_zero)"
      ],
      "metadata": {
        "colab": {
          "base_uri": "https://localhost:8080/"
        },
        "id": "PfBPocumaQFL",
        "outputId": "f6916b6a-ff07-4640-c870-4abc1f05508f"
      },
      "execution_count": 63,
      "outputs": [
        {
          "output_type": "stream",
          "name": "stdout",
          "text": [
            "[[0. 0. 0. 0. 0.]\n",
            " [0. 0. 0. 0. 0.]\n",
            " [0. 0. 0. 0. 0.]\n",
            " [0. 0. 0. 0. 0.]\n",
            " [0. 0. 0. 0. 0.]]\n"
          ]
        }
      ]
    },
    {
      "cell_type": "code",
      "source": [],
      "metadata": {
        "id": "2I3ebVlmbGO6"
      },
      "execution_count": null,
      "outputs": []
    },
    {
      "cell_type": "code",
      "source": [
        "arr1 = np.arange(9).reshape(3,3)\n",
        "print(arr1)"
      ],
      "metadata": {
        "colab": {
          "base_uri": "https://localhost:8080/"
        },
        "id": "BDjP7On4au7M",
        "outputId": "ca2d187c-9e4d-4a96-8c5a-44150d0a13a9"
      },
      "execution_count": 65,
      "outputs": [
        {
          "output_type": "stream",
          "name": "stdout",
          "text": [
            "[[0 1 2]\n",
            " [3 4 5]\n",
            " [6 7 8]]\n"
          ]
        }
      ]
    },
    {
      "cell_type": "code",
      "source": [
        "arr2 = np.random.rand(10,10)\n",
        "print(arr2)\n",
        "min = arr2.min()\n",
        "max = arr2.max()\n",
        "print(min)\n",
        "print(max)"
      ],
      "metadata": {
        "colab": {
          "base_uri": "https://localhost:8080/"
        },
        "id": "C-PVyZcvbFpG",
        "outputId": "95c9b6d0-20ba-47cf-ff75-d68ec756e6d8"
      },
      "execution_count": 67,
      "outputs": [
        {
          "output_type": "stream",
          "name": "stdout",
          "text": [
            "[[0.815501   0.2154775  0.35448629 0.8493403  0.56012245 0.73819877\n",
            "  0.5081768  0.15787985 0.22047448 0.42108206]\n",
            " [0.8637701  0.88681722 0.08991555 0.72717427 0.29468252 0.60901311\n",
            "  0.01256422 0.84957136 0.64531695 0.13316703]\n",
            " [0.99696165 0.04711869 0.47041796 0.50731128 0.97105244 0.34447115\n",
            "  0.51041004 0.47476733 0.02846512 0.50900058]\n",
            " [0.10306052 0.49897873 0.35007272 0.89559617 0.16578013 0.45852038\n",
            "  0.19515713 0.04104245 0.52438408 0.62802352]\n",
            " [0.66738418 0.19717331 0.21472796 0.53539101 0.61554078 0.29439138\n",
            "  0.41174799 0.93483022 0.60714652 0.46252094]\n",
            " [0.24245535 0.209304   0.65191735 0.46937053 0.96327755 0.34323781\n",
            "  0.68487668 0.41885467 0.31197514 0.20451935]\n",
            " [0.63627445 0.20589698 0.26928275 0.92287082 0.33131817 0.82517328\n",
            "  0.97390861 0.1550251  0.23013525 0.75596277]\n",
            " [0.80828188 0.32392908 0.32558374 0.45700624 0.80857018 0.75279263\n",
            "  0.87029816 0.39075867 0.78948068 0.77906989]\n",
            " [0.0676671  0.38709931 0.78490995 0.16376989 0.94647498 0.94303444\n",
            "  0.23310516 0.20310637 0.96051931 0.32981234]\n",
            " [0.3329372  0.8042486  0.23254302 0.16823667 0.79929075 0.17946007\n",
            "  0.17914593 0.46459737 0.59149869 0.64624959]]\n",
            "0.01256421766139637\n",
            "0.9969616473561429\n"
          ]
        }
      ]
    },
    {
      "cell_type": "code",
      "source": [
        "vec1 = np.random.rand(30)\n",
        "mean_val = vec1.mean()\n",
        "print(mean_val)"
      ],
      "metadata": {
        "colab": {
          "base_uri": "https://localhost:8080/"
        },
        "id": "VtyJtK_nb1Df",
        "outputId": "cc7e4025-aea9-4201-f1b0-38202f2a248b"
      },
      "execution_count": 68,
      "outputs": [
        {
          "output_type": "stream",
          "name": "stdout",
          "text": [
            "0.5042945868814507\n"
          ]
        }
      ]
    },
    {
      "cell_type": "code",
      "source": [
        "prompt1 = input(\"Please enter the first number: \")\n",
        "num1 = float(prompt1)\n",
        "prompt2 = input(\"Please enter the second number: \")\n",
        "num2 = float(prompt2)\n",
        "print(num1*num2)\n",
        "\n"
      ],
      "metadata": {
        "colab": {
          "base_uri": "https://localhost:8080/"
        },
        "id": "NJErcYrecHLs",
        "outputId": "ee9262a5-510a-48fe-9a64-920a3e811937"
      },
      "execution_count": 69,
      "outputs": [
        {
          "output_type": "stream",
          "name": "stdout",
          "text": [
            "Please enter the first number: 2\n",
            "Please enter the second number: 4\n",
            "8.0\n"
          ]
        }
      ]
    },
    {
      "cell_type": "code",
      "source": [
        "def doubleList(numberList):\n",
        "  for number in numberList:\n",
        "    print(number*2)\n",
        "doubleList([3,1,5])"
      ],
      "metadata": {
        "colab": {
          "base_uri": "https://localhost:8080/"
        },
        "id": "zG7tt4Rwcs4a",
        "outputId": "8688ab40-01fa-469f-dab2-b1e1e4aeb92d"
      },
      "execution_count": 72,
      "outputs": [
        {
          "output_type": "stream",
          "name": "stdout",
          "text": [
            "6\n",
            "2\n",
            "10\n"
          ]
        }
      ]
    },
    {
      "cell_type": "code",
      "source": [
        "class Vehicle:\n",
        "  def __init__(self, max_speed,mileage):\n",
        "    self.max_speed = max_speed\n",
        "    self.mileage = mileage\n",
        "\n",
        "  def display_info(self):\n",
        "    print(f\"Max Speed: {self.max_speed} km/hr, Mileage: {self.mileage} km\")\n",
        "\n",
        "\n",
        "my_car = Vehicle(240, 10000)\n",
        "my_car.display_info()"
      ],
      "metadata": {
        "colab": {
          "base_uri": "https://localhost:8080/"
        },
        "id": "2O-nRxwddJPR",
        "outputId": "7195f6f6-6b4b-4a7d-cbf9-773601544d6b"
      },
      "execution_count": 74,
      "outputs": [
        {
          "output_type": "stream",
          "name": "stdout",
          "text": [
            "Max Speed: 240 km/hr, Mileage: 10000 km\n"
          ]
        }
      ]
    },
    {
      "cell_type": "code",
      "source": [
        "class Bus(Vehicle):\n",
        "    def __init__(self, name, max_speed, mileage):\n",
        "        super().__init__(max_speed, mileage)\n",
        "        self.name = name\n",
        "\n",
        "    def display_info(self):\n",
        "        print(f\"Name: {self.name}, \", end=\"\")\n",
        "        super().display_info()\n",
        "\n",
        "school_mercedes = Bus(\"School Mercedes\", 180, 1000)\n",
        "school_mercedes.display_info()"
      ],
      "metadata": {
        "colab": {
          "base_uri": "https://localhost:8080/"
        },
        "id": "3vISSptxei2M",
        "outputId": "def57a7e-02fc-48c0-f393-c76801ea0874"
      },
      "execution_count": 75,
      "outputs": [
        {
          "output_type": "stream",
          "name": "stdout",
          "text": [
            "Name: School Mercedes, Max Speed: 180 km/hr, Mileage: 1000 km\n"
          ]
        }
      ]
    },
    {
      "cell_type": "code",
      "source": [
        "\n",
        "class Bus(Vehicle):\n",
        "    def __init__(self, name, max_speed, mileage, seating_capacity=50):\n",
        "        super().__init__(max_speed, mileage)\n",
        "        self.name = name\n",
        "        self.seating_capacity = seating_capacity\n",
        "\n",
        "    def display_info(self):\n",
        "        print(f\"Name: {self.name}, Max Speed: {self.max_speed} km/hr, Mileage: {self.mileage} km, Seating Capacity: {self.seating_capacity}\")\n",
        "\n",
        "\n",
        "bus_with_default_seats = Bus(\"City Express\", 120, 5000)\n",
        "bus_with_default_seats.display_info()\n"
      ],
      "metadata": {
        "colab": {
          "base_uri": "https://localhost:8080/"
        },
        "id": "Vgdr10SUfS7W",
        "outputId": "e7e251ed-8e88-4333-e787-cb993556b43a"
      },
      "execution_count": 77,
      "outputs": [
        {
          "output_type": "stream",
          "name": "stdout",
          "text": [
            "Name: City Express, Max Speed: 120 km/hr, Mileage: 5000 km, Seating Capacity: 50\n"
          ]
        }
      ]
    },
    {
      "cell_type": "code",
      "source": [
        "class Vehicle:\n",
        "    color = \"White\"\n",
        "\n",
        "    def __init__(self, max_speed, mileage):\n",
        "        self.max_speed = max_speed\n",
        "        self.mileage = mileage\n",
        "\n",
        "    def display_info(self):\n",
        "        print(f\"Color: {Vehicle.color}, Max Speed: {self.max_speed} km/hr, Mileage: {self.mileage} km\")\n",
        "\n",
        "class Bus(Vehicle):\n",
        "    def __init__(self, name, max_speed, mileage, seating_capacity=50):\n",
        "        super().__init__(max_speed, mileage)\n",
        "        self.name = name\n",
        "        self.seating_capacity = seating_capacity\n",
        "\n",
        "    def display_info(self):\n",
        "        print(f\"Name: {self.name}, Color: {self.color}, Max Speed: {self.max_speed} km/hr, Mileage: {self.mileage} km, Seating Capacity: {self.seating_capacity}\")\n",
        "\n",
        "print(\"\\nd) Vehicle and Bus Classes (with 'color' class attribute):\")\n",
        "\n",
        "my_other_car = Vehicle(200, 15000)\n",
        "my_other_car.display_info()\n",
        "\n",
        "\n",
        "school_bus_final = Bus(\"School Shuttle\", 100, 2000, 40)\n",
        "school_bus_final.display_info()\n",
        "\n"
      ],
      "metadata": {
        "colab": {
          "base_uri": "https://localhost:8080/"
        },
        "id": "iWAdPujFfhdE",
        "outputId": "9b4f5727-9e5b-4269-873d-3c9c641c0c11"
      },
      "execution_count": 78,
      "outputs": [
        {
          "output_type": "stream",
          "name": "stdout",
          "text": [
            "\n",
            "d) Vehicle and Bus Classes (with 'color' class attribute):\n",
            "Color: White, Max Speed: 200 km/hr, Mileage: 15000 km\n",
            "Name: School Shuttle, Color: White, Max Speed: 100 km/hr, Mileage: 2000 km, Seating Capacity: 40\n"
          ]
        }
      ]
    },
    {
      "cell_type": "code",
      "source": [],
      "metadata": {
        "id": "WV5bnTHtf7CV"
      },
      "execution_count": null,
      "outputs": []
    }
  ]
}